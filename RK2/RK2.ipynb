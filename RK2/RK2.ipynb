{
 "cells": [
  {
   "cell_type": "markdown",
   "id": "f5014d30",
   "metadata": {},
   "source": [
    "# Бибиков Павел ИУ5-22М. Рубежный контроль №2"
   ]
  },
  {
   "cell_type": "markdown",
   "id": "32bb32d1",
   "metadata": {},
   "source": [
    "В этой тетрадке решается задача бинарной классификации текстов (lyrics) из датасета `tcc_ceds_music.csv`.  \n",
    "В качестве целевого признака возьмём наличие «violence» (строка `violence` > 0).  \n",
    "Два подхода к векторизации текстов:\n",
    "- CountVectorizer\n",
    "- TfidfVectorizer\n",
    "\n",
    "Два классификатора:\n",
    "1. RandomForestClassifier\n",
    "2. LogisticRegression\n"
   ]
  },
  {
   "cell_type": "markdown",
   "id": "a1f00986",
   "metadata": {},
   "source": [
    "**Что такое признак violence в датасете?**\n",
    "\n",
    "В датасете tcc_ceds_music.csv каждая строка соответствует одной песне, в том числе её тексту (столбец lyrics) и различным метаданным: жанру, дате выпуска, акустическим характеристикам и т. д. \n",
    "\n",
    "Среди этих метаданных есть тематические лексические счётчики: как часто в тексте употребляются слова, связанные с насилием (violence), любовью, дружбой, миром/жизнью и пр. \n",
    "\n",
    "**Почему именно этот признак?**\n",
    "\n",
    "Демонстрация бинарной классификации. Чётко разделить тексты на «содержат тему насилия» и «не содержат» проще всего:\n",
    "\n",
    "* violence > 0 → класс 1 (есть насилие)\n",
    "\n",
    "* violence = 0 → класс 0 (нет насилия)\n",
    "\n",
    "Такой целевой признак легко интерпретировать и быстро показать работу алгоритмов RandomForestClassifier и LogisticRegression.\n",
    "\n",
    "Однако в датасете нет violence = 0, так что возьмем медианное значение = 0.00250626582559355"
   ]
  },
  {
   "cell_type": "code",
   "execution_count": 19,
   "id": "a60301b6",
   "metadata": {},
   "outputs": [],
   "source": [
    "# Ячейка 2: Импорт необходимых библиотек\n",
    "import pandas as pd\n",
    "import numpy as np\n",
    "\n",
    "from sklearn.model_selection import train_test_split\n",
    "from sklearn.feature_extraction.text import CountVectorizer, TfidfVectorizer\n",
    "from sklearn.ensemble import RandomForestClassifier\n",
    "from sklearn.linear_model import LogisticRegression\n",
    "from sklearn.metrics import accuracy_score, classification_report\n",
    "\n",
    "import warnings\n",
    "warnings.filterwarnings('ignore')\n"
   ]
  },
  {
   "cell_type": "code",
   "execution_count": 20,
   "id": "e64b62f9",
   "metadata": {},
   "outputs": [
    {
     "name": "stdout",
     "output_type": "stream",
     "text": [
      "Форма данных: (28372, 31)\n",
      "Колонки: ['Unnamed: 0', 'artist_name', 'track_name', 'release_date', 'genre', 'lyrics', 'len', 'dating', 'violence', 'world/life', 'night/time', 'shake the audience', 'family/gospel', 'romantic', 'communication', 'obscene', 'music', 'movement/places', 'light/visual perceptions', 'family/spiritual', 'like/girls', 'sadness', 'feelings', 'danceability', 'loudness', 'acousticness', 'instrumentalness', 'valence', 'energy', 'topic', 'age']\n",
      "                                              lyrics  violence\n",
      "0  hold time feel break feel untrue convince spea...  0.063746\n",
      "1  believe drop rain fall grow believe darkest ni...  0.096777\n",
      "2  sweetheart send letter goodbye secret feel bet...  0.002770\n",
      "3  kiss lips want stroll charm mambo chacha merin...  0.001548\n",
      "4  till darling till matter know till dream live ...  0.001350\n"
     ]
    }
   ],
   "source": [
    "# Ячейка 3: Загрузка и первичный осмотр данных\n",
    "df = pd.read_csv('tcc_ceds_music.csv')\n",
    "print(\"Форма данных:\", df.shape)\n",
    "print(\"Колонки:\", df.columns.tolist())\n",
    "print(df[['lyrics','violence']].head())\n"
   ]
  },
  {
   "cell_type": "code",
   "execution_count": 21,
   "metadata": {},
   "outputs": [
    {
     "name": "stdout",
     "output_type": "stream",
     "text": [
      "Медиана violence: 0.00250626582559355\n",
      "Распределение violence_flag:\n",
      " violence_flag\n",
      "1    14186\n",
      "0    14186\n",
      "Name: count, dtype: int64\n"
     ]
    }
   ],
   "source": [
    "# Ячейка 4: Предобработка\n",
    "# Удаляем строки без текста\n",
    "df = df.dropna(subset=['lyrics'])\n",
    "\n",
    "# Бинаризуем violence по порогу = медиане\n",
    "threshold = df['violence'].median()\n",
    "df['violence_flag'] = (df['violence'] > threshold).astype(int)\n",
    "\n",
    "# Диагностика\n",
    "print(\"Медиана violence:\", threshold)\n",
    "print(\"Распределение violence_flag:\\n\", df['violence_flag'].value_counts())\n"
   ]
  },
  {
   "cell_type": "code",
   "execution_count": 22,
   "id": "6d4c78f8",
   "metadata": {},
   "outputs": [],
   "source": [
    "# Ячейка 5: Формирование X и y и разбиение\n",
    "X = df['lyrics']\n",
    "y = df['violence_flag']\n",
    "\n",
    "X_train, X_test, y_train, y_test = train_test_split(\n",
    "    X, y, test_size=0.2, random_state=42, stratify=y\n",
    ")\n"
   ]
  },
  {
   "cell_type": "code",
   "execution_count": 23,
   "metadata": {},
   "outputs": [
    {
     "name": "stdout",
     "output_type": "stream",
     "text": [
      "Уникальные метки в y_test: [0 1]\n",
      "Уникальные метки в y_pred_rf: [0 1]\n",
      "RandomForest + CountVectorizer:\n",
      "Accuracy: 0.8438766519823788\n",
      "              precision    recall  f1-score   support\n",
      "\n",
      " No Violence       0.84      0.85      0.84      2838\n",
      "    Violence       0.85      0.84      0.84      2837\n",
      "\n",
      "    accuracy                           0.84      5675\n",
      "   macro avg       0.84      0.84      0.84      5675\n",
      "weighted avg       0.84      0.84      0.84      5675\n",
      "\n"
     ]
    }
   ],
   "source": [
    "# Ячейка 6 (исправленная): CountVectorizer + RandomForestClassifier\n",
    "from sklearn.metrics import accuracy_score, classification_report\n",
    "import numpy as np\n",
    "\n",
    "# Векторизация\n",
    "cv = CountVectorizer(max_df=0.9, min_df=5, ngram_range=(1,2))\n",
    "X_train_cv = cv.fit_transform(X_train)\n",
    "X_test_cv  = cv.transform(X_test)\n",
    "\n",
    "# Обучение\n",
    "rf = RandomForestClassifier(n_estimators=100, random_state=42)\n",
    "rf.fit(X_train_cv, y_train)\n",
    "\n",
    "# Предсказание\n",
    "y_pred_rf = rf.predict(X_test_cv)\n",
    "\n",
    "# Диагностика — убедимся, что есть оба класса\n",
    "print(\"Уникальные метки в y_test:\", np.unique(y_test))\n",
    "print(\"Уникальные метки в y_pred_rf:\", np.unique(y_pred_rf))\n",
    "\n",
    "# Оценка\n",
    "print(\"RandomForest + CountVectorizer:\")\n",
    "print(\"Accuracy:\", accuracy_score(y_test, y_pred_rf))\n",
    "print(classification_report(\n",
    "    y_test,\n",
    "    y_pred_rf,\n",
    "    labels=[0, 1],\n",
    "    target_names=['No Violence', 'Violence']\n",
    "))\n"
   ]
  },
  {
   "cell_type": "code",
   "execution_count": 24,
   "metadata": {},
   "outputs": [
    {
     "name": "stdout",
     "output_type": "stream",
     "text": [
      "LogisticRegression + TfidfVectorizer:\n",
      "Accuracy: 0.8176211453744493\n",
      "              precision    recall  f1-score   support\n",
      "\n",
      " No Violence       0.78      0.88      0.83      2838\n",
      "    Violence       0.86      0.76      0.81      2837\n",
      "\n",
      "    accuracy                           0.82      5675\n",
      "   macro avg       0.82      0.82      0.82      5675\n",
      "weighted avg       0.82      0.82      0.82      5675\n",
      "\n"
     ]
    }
   ],
   "source": [
    "# Ячейка 7: TfidfVectorizer + LogisticRegression\n",
    "# Векторизация\n",
    "tfv = TfidfVectorizer(max_df=0.9, min_df=5, ngram_range=(1,2))\n",
    "X_train_tfv = tfv.fit_transform(X_train)\n",
    "X_test_tfv  = tfv.transform(X_test)\n",
    "\n",
    "# Обучение\n",
    "lr = LogisticRegression(max_iter=1000, random_state=42)\n",
    "lr.fit(X_train_tfv, y_train)\n",
    "\n",
    "# Предсказание и оценка\n",
    "y_pred_lr = lr.predict(X_test_tfv)\n",
    "print(\"LogisticRegression + TfidfVectorizer:\")\n",
    "print(\"Accuracy:\", accuracy_score(y_test, y_pred_lr))\n",
    "print(classification_report(y_test, y_pred_lr, target_names=['No Violence','Violence']))\n"
   ]
  },
  {
   "cell_type": "markdown",
   "id": "4d3bd643",
   "metadata": {},
   "source": [
    "# Ячейка 8: Выводы\n",
    "\n",
    "- **RandomForestClassifier + CountVectorizer** показал точность ~_84_%.  \n",
    "- **LogisticRegression + TfidfVectorizer** показал точность ~_82_%.  \n",
    "\n"
   ]
  }
 ],
 "metadata": {
  "kernelspec": {
   "display_name": ".venv",
   "language": "python",
   "name": "python3"
  },
  "language_info": {
   "codemirror_mode": {
    "name": "ipython",
    "version": 3
   },
   "file_extension": ".py",
   "mimetype": "text/x-python",
   "name": "python",
   "nbconvert_exporter": "python",
   "pygments_lexer": "ipython3",
   "version": "3.11.4"
  }
 },
 "nbformat": 4,
 "nbformat_minor": 5
}
