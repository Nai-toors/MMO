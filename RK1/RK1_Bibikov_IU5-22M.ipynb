{
 "cells": [
  {
   "cell_type": "markdown",
   "id": "a71c851d",
   "metadata": {},
   "source": [
    "# Бибиков Павел ИУ5-22М РК1"
   ]
  },
  {
   "cell_type": "code",
   "execution_count": 17,
   "id": "5636198b",
   "metadata": {},
   "outputs": [],
   "source": [
    "import pandas as pd\n",
    "import numpy as np\n",
    "import matplotlib.pyplot as plt\n",
    "import seaborn as sns\n",
    "import warnings"
   ]
  },
  {
   "cell_type": "code",
   "execution_count": 18,
   "id": "7f5779db",
   "metadata": {},
   "outputs": [],
   "source": [
    "warnings.filterwarnings('ignore') # Игнорируем предупреждения для чистоты вывода"
   ]
  },
  {
   "cell_type": "code",
   "execution_count": 19,
   "id": "6a9e6b00",
   "metadata": {},
   "outputs": [],
   "source": [
    "# Загрузка набора данных \"Титаник\"\n",
    "df = sns.load_dataset('titanic')"
   ]
  },
  {
   "cell_type": "code",
   "execution_count": 20,
   "id": "b2b6a6a7",
   "metadata": {},
   "outputs": [
    {
     "name": "stdout",
     "output_type": "stream",
     "text": [
      "Первые 5 строк данных:\n",
      "   survived  pclass     sex   age  sibsp  parch     fare embarked  class  \\\n",
      "0         0       3    male  22.0      1      0   7.2500        S  Third   \n",
      "1         1       1  female  38.0      1      0  71.2833        C  First   \n",
      "2         1       3  female  26.0      0      0   7.9250        S  Third   \n",
      "3         1       1  female  35.0      1      0  53.1000        S  First   \n",
      "4         0       3    male  35.0      0      0   8.0500        S  Third   \n",
      "\n",
      "     who  adult_male deck  embark_town alive  alone  \n",
      "0    man        True  NaN  Southampton    no  False  \n",
      "1  woman       False    C    Cherbourg   yes  False  \n",
      "2  woman       False  NaN  Southampton   yes   True  \n",
      "3  woman       False    C  Southampton   yes  False  \n",
      "4    man        True  NaN  Southampton    no   True  \n",
      "\n",
      "Информация о данных:\n",
      "<class 'pandas.core.frame.DataFrame'>\n",
      "RangeIndex: 891 entries, 0 to 890\n",
      "Data columns (total 15 columns):\n",
      " #   Column       Non-Null Count  Dtype   \n",
      "---  ------       --------------  -----   \n",
      " 0   survived     891 non-null    int64   \n",
      " 1   pclass       891 non-null    int64   \n",
      " 2   sex          891 non-null    object  \n",
      " 3   age          714 non-null    float64 \n",
      " 4   sibsp        891 non-null    int64   \n",
      " 5   parch        891 non-null    int64   \n",
      " 6   fare         891 non-null    float64 \n",
      " 7   embarked     889 non-null    object  \n",
      " 8   class        891 non-null    category\n",
      " 9   who          891 non-null    object  \n",
      " 10  adult_male   891 non-null    bool    \n",
      " 11  deck         203 non-null    category\n",
      " 12  embark_town  889 non-null    object  \n",
      " 13  alive        891 non-null    object  \n",
      " 14  alone        891 non-null    bool    \n",
      "dtypes: bool(2), category(2), float64(2), int64(4), object(5)\n",
      "memory usage: 80.7+ KB\n",
      "\n",
      "Статистическое описание числовых признаков:\n",
      "         survived      pclass         age       sibsp       parch        fare\n",
      "count  891.000000  891.000000  714.000000  891.000000  891.000000  891.000000\n",
      "mean     0.383838    2.308642   29.699118    0.523008    0.381594   32.204208\n",
      "std      0.486592    0.836071   14.526497    1.102743    0.806057   49.693429\n",
      "min      0.000000    1.000000    0.420000    0.000000    0.000000    0.000000\n",
      "25%      0.000000    2.000000   20.125000    0.000000    0.000000    7.910400\n",
      "50%      0.000000    3.000000   28.000000    0.000000    0.000000   14.454200\n",
      "75%      1.000000    3.000000   38.000000    1.000000    0.000000   31.000000\n",
      "max      1.000000    3.000000   80.000000    8.000000    6.000000  512.329200\n",
      "\n",
      "Статистическое описание категориальных признаков:\n",
      "         sex embarked  class  who deck  embark_town alive\n",
      "count    891      889    891  891  203          889   891\n",
      "unique     2        3      3    3    7            3     2\n",
      "top     male        S  Third  man    C  Southampton    no\n",
      "freq     577      644    491  537   59          644   549\n"
     ]
    }
   ],
   "source": [
    "# Краткий обзор данных\n",
    "print(\"Первые 5 строк данных:\")\n",
    "print(df.head())\n",
    "print(\"\\nИнформация о данных:\")\n",
    "df.info()\n",
    "print(\"\\nСтатистическое описание числовых признаков:\")\n",
    "print(df.describe())\n",
    "print(\"\\nСтатистическое описание категориальных признаков:\")\n",
    "print(df.describe(include=['object', 'category'])) # 'category' для Pclass и др."
   ]
  },
  {
   "cell_type": "markdown",
   "id": "7f6d24e6",
   "metadata": {},
   "source": [
    "\n",
    "## Задача №3: Кодирование категориального признака методом \"Weight of Evidence (WoE)\"\n",
    "###\n",
    "## Выберем категориальный признак `embarked` (порт посадки) и бинарную целевую переменную `survived`.\n",
    "#\n",
    "# **Шаги:**\n",
    "### 1. Обработать пропуски в `embarked`.\n",
    "### 2. Рассчитать количество \"хороших\" (survived=1) и \"плохих\" (survived=0) исходов для каждой категории `embarked`.\n",
    "### 3. Рассчитать долю \"хороших\" и \"плохих\" исходов для каждой категории от общего числа \"хороших\" и \"плохих\" исходов соответственно.\n",
    "### 4. Рассчитать WoE для каждой категории как `ln(доля хороших / доля плохих)`.\n",
    "### 5. Создать новый признак `embarked_woe` с полученными значениями WoE."
   ]
  },
  {
   "cell_type": "code",
   "execution_count": 21,
   "id": "f90f546e",
   "metadata": {},
   "outputs": [
    {
     "name": "stdout",
     "output_type": "stream",
     "text": [
      "Наиболее частый порт посадки (мода): S\n"
     ]
    }
   ],
   "source": [
    "# 1. Обработка пропусков в 'embarked'\n",
    "# Найдем наиболее частый порт посадки (моду)\n",
    "most_frequent_port = df['embarked'].mode()[0]\n",
    "print(f\"Наиболее частый порт посадки (мода): {most_frequent_port}\")"
   ]
  },
  {
   "cell_type": "code",
   "execution_count": 22,
   "id": "6e508c7b",
   "metadata": {},
   "outputs": [
    {
     "name": "stdout",
     "output_type": "stream",
     "text": [
      "\n",
      "Пропуски в 'embarked' после заполнения: 0\n"
     ]
    }
   ],
   "source": [
    "df['embarked'].fillna(most_frequent_port, inplace=True)\n",
    "print(f\"\\nПропуски в 'embarked' после заполнения: {df['embarked'].isnull().sum()}\")"
   ]
  },
  {
   "cell_type": "code",
   "execution_count": 23,
   "id": "aa783c7a",
   "metadata": {},
   "outputs": [],
   "source": [
    "# 2. Расчет событий для каждой категории 'embarked'\n",
    "# Добавим +0.5 к каждой группе для сглаживания (избежание деления на ноль)\n",
    "smooth_factor = 0.5"
   ]
  },
  {
   "cell_type": "code",
   "execution_count": 24,
   "id": "18ebdcfa",
   "metadata": {},
   "outputs": [
    {
     "name": "stdout",
     "output_type": "stream",
     "text": [
      "\n",
      "Расчет событий по категориям 'embarked':\n",
      "          all   good    bad\n",
      "embarked                   \n",
      "C         168   93.5   75.5\n",
      "Q          77   30.5   47.5\n",
      "S         646  219.5  427.5\n"
     ]
    }
   ],
   "source": [
    "# Группируем данные по 'embarked' и считаем количество выживших (good) и погибших (bad)\n",
    "woe_df = df.groupby('embarked')['survived'].agg(\n",
    "    [('all', 'count'),\n",
    "     ('good', lambda x: (x == 1).sum() + smooth_factor),\n",
    "     ('bad', lambda x: (x == 0).sum() + smooth_factor)]\n",
    ")\n",
    "\n",
    "print(\"\\nРасчет событий по категориям 'embarked':\")\n",
    "print(woe_df)"
   ]
  },
  {
   "cell_type": "code",
   "execution_count": 25,
   "id": "25c111a4",
   "metadata": {},
   "outputs": [
    {
     "name": "stdout",
     "output_type": "stream",
     "text": [
      "\n",
      "Расчет долей:\n",
      "          all   good    bad  distr_good  distr_bad\n",
      "embarked                                          \n",
      "C         168   93.5   75.5    0.272198   0.137148\n",
      "Q          77   30.5   47.5    0.088792   0.086285\n",
      "S         646  219.5  427.5    0.639010   0.776567\n"
     ]
    }
   ],
   "source": [
    "# 3. Расчет общих событий и долей\n",
    "total_good = df['survived'].sum() + smooth_factor * df['embarked'].nunique()\n",
    "total_bad = (df.shape[0] - df['survived'].sum()) + smooth_factor * df['embarked'].nunique()\n",
    "\n",
    "woe_df['distr_good'] = woe_df['good'] / total_good\n",
    "woe_df['distr_bad'] = woe_df['bad'] / total_bad\n",
    "\n",
    "print(\"\\nРасчет долей:\")\n",
    "print(woe_df)"
   ]
  },
  {
   "cell_type": "code",
   "execution_count": 26,
   "id": "95ab3af5",
   "metadata": {},
   "outputs": [
    {
     "name": "stdout",
     "output_type": "stream",
     "text": [
      "\n",
      "Расчет WoE:\n",
      "          all   good    bad  distr_good  distr_bad       woe\n",
      "embarked                                                    \n",
      "C         168   93.5   75.5    0.272198   0.137148  0.685469\n",
      "Q          77   30.5   47.5    0.088792   0.086285  0.028637\n",
      "S         646  219.5  427.5    0.639010   0.776567 -0.194962\n"
     ]
    }
   ],
   "source": [
    "# 4. Расчет WoE\n",
    "woe_df['woe'] = np.log(woe_df['distr_good'] / woe_df['distr_bad'])\n",
    "\n",
    "print(\"\\nРасчет WoE:\")\n",
    "print(woe_df)"
   ]
  },
  {
   "cell_type": "code",
   "execution_count": 27,
   "id": "666ad96f",
   "metadata": {},
   "outputs": [
    {
     "name": "stdout",
     "output_type": "stream",
     "text": [
      "\n",
      "Словарь для WoE маппинга: {'C': 0.6854686245399929, 'Q': 0.028636817073100906, 'S': -0.19496221136125838}\n"
     ]
    }
   ],
   "source": [
    "# 5. Создание нового признака и применение WoE\n",
    "# Создаем словарь для маппинга\n",
    "woe_map = woe_df['woe'].to_dict()\n",
    "print(f\"\\nСловарь для WoE маппинга: {woe_map}\")"
   ]
  },
  {
   "cell_type": "code",
   "execution_count": 28,
   "id": "d1d0663a",
   "metadata": {},
   "outputs": [
    {
     "name": "stdout",
     "output_type": "stream",
     "text": [
      "\n",
      "Первые 5 строк данных с новым признаком 'embarked_woe':\n",
      "  embarked  embarked_woe  survived\n",
      "0        S     -0.194962         0\n",
      "1        C      0.685469         1\n",
      "2        S     -0.194962         1\n",
      "3        S     -0.194962         1\n",
      "4        S     -0.194962         0\n",
      "\n",
      "Проверка типов данных после добавления WoE:\n",
      "<class 'pandas.core.frame.DataFrame'>\n",
      "RangeIndex: 891 entries, 0 to 890\n",
      "Data columns (total 16 columns):\n",
      " #   Column        Non-Null Count  Dtype   \n",
      "---  ------        --------------  -----   \n",
      " 0   survived      891 non-null    int64   \n",
      " 1   pclass        891 non-null    int64   \n",
      " 2   sex           891 non-null    object  \n",
      " 3   age           714 non-null    float64 \n",
      " 4   sibsp         891 non-null    int64   \n",
      " 5   parch         891 non-null    int64   \n",
      " 6   fare          891 non-null    float64 \n",
      " 7   embarked      891 non-null    object  \n",
      " 8   class         891 non-null    category\n",
      " 9   who           891 non-null    object  \n",
      " 10  adult_male    891 non-null    bool    \n",
      " 11  deck          203 non-null    category\n",
      " 12  embark_town   889 non-null    object  \n",
      " 13  alive         891 non-null    object  \n",
      " 14  alone         891 non-null    bool    \n",
      " 15  embarked_woe  891 non-null    float64 \n",
      "dtypes: bool(2), category(2), float64(3), int64(4), object(5)\n",
      "memory usage: 87.6+ KB\n"
     ]
    }
   ],
   "source": [
    "# Применяем маппинг к исходному датафрейму\n",
    "df['embarked_woe'] = df['embarked'].map(woe_map)\n",
    "\n",
    "print(\"\\nПервые 5 строк данных с новым признаком 'embarked_woe':\")\n",
    "print(df[['embarked', 'embarked_woe', 'survived']].head())\n",
    "print(\"\\nПроверка типов данных после добавления WoE:\")\n",
    "df.info()"
   ]
  },
  {
   "cell_type": "markdown",
   "id": "af3d8b51",
   "metadata": {},
   "source": [
    "## Задача №23: Обнаружение и удаление выбросов на основе правила трех сигм\n",
    "#\n",
    "## Выберем числовой признак `fare` (стоимость билета).\n",
    "#\n",
    "## **Шаги:**\n",
    "### 1. Рассчитать среднее значение (`mean`) и стандартное отклонение (`std`) для признака `fare`.\n",
    "### 2. Определить нижнюю и верхнюю границы по правилу трех сигм: `mean ± 3 * std`.\n",
    "### 3. Найти наблюдения, выходящие за эти границы.\n",
    "### 4. Создать новый датафрейм, исключив найденные выбросы."
   ]
  },
  {
   "cell_type": "code",
   "execution_count": 29,
   "id": "11a391d1",
   "metadata": {},
   "outputs": [
    {
     "name": "stdout",
     "output_type": "stream",
     "text": [
      "Признак: fare\n",
      "Среднее значение: 32.20\n",
      "Стандартное отклонение: 49.69\n"
     ]
    }
   ],
   "source": [
    "# 1. Расчет среднего и стандартного отклонения для 'fare'\n",
    "feature_name = 'fare'\n",
    "mean_val = df[feature_name].mean()\n",
    "std_val = df[feature_name].std()\n",
    "\n",
    "print(f\"Признак: {feature_name}\")\n",
    "print(f\"Среднее значение: {mean_val:.2f}\")\n",
    "print(f\"Стандартное отклонение: {std_val:.2f}\")"
   ]
  },
  {
   "cell_type": "code",
   "execution_count": 30,
   "id": "242cba82",
   "metadata": {},
   "outputs": [
    {
     "name": "stdout",
     "output_type": "stream",
     "text": [
      "Нижняя граница (3 сигмы): -116.88\n",
      "Верхняя граница (3 сигмы): 181.28\n"
     ]
    }
   ],
   "source": [
    "# 2. Определение границ по правилу трех сигм\n",
    "lower_bound = mean_val - 3 * std_val\n",
    "upper_bound = mean_val + 3 * std_val\n",
    "\n",
    "print(f\"Нижняя граница (3 сигмы): {lower_bound:.2f}\")\n",
    "print(f\"Верхняя граница (3 сигмы): {upper_bound:.2f}\")"
   ]
  },
  {
   "cell_type": "code",
   "execution_count": 31,
   "id": "4bb189ec",
   "metadata": {},
   "outputs": [
    {
     "name": "stdout",
     "output_type": "stream",
     "text": [
      "\n",
      "Найдено выбросов в признаке 'fare': 20\n",
      "Примеры выбросов:\n",
      "         fare\n",
      "27   263.0000\n",
      "88   263.0000\n",
      "118  247.5208\n",
      "258  512.3292\n",
      "299  247.5208\n"
     ]
    }
   ],
   "source": [
    "# 3. Нахождение выбросов\n",
    "outliers = df[(df[feature_name] < lower_bound) | (df[feature_name] > upper_bound)]\n",
    "print(f\"\\nНайдено выбросов в признаке '{feature_name}': {len(outliers)}\")\n",
    "if len(outliers) > 0:\n",
    "    print(\"Примеры выбросов:\")\n",
    "    print(outliers[[feature_name]].head())\n"
   ]
  },
  {
   "cell_type": "code",
   "execution_count": 32,
   "id": "71843b09",
   "metadata": {},
   "outputs": [
    {
     "name": "stdout",
     "output_type": "stream",
     "text": [
      "\n",
      "Размер исходного датафрейма: (891, 16)\n",
      "Размер датафрейма после удаления выбросов по 'fare': (871, 16)\n",
      "Удалено строк: 20\n"
     ]
    }
   ],
   "source": [
    "# 4. Удаление выбросов (создание нового датафрейма без них)\n",
    "df_cleaned = df[(df[feature_name] >= lower_bound) & (df[feature_name] <= upper_bound)]\n",
    "\n",
    "print(f\"\\nРазмер исходного датафрейма: {df.shape}\")\n",
    "print(f\"Размер датафрейма после удаления выбросов по '{feature_name}': {df_cleaned.shape}\")\n",
    "print(f\"Удалено строк: {df.shape[0] - df_cleaned.shape[0]}\")"
   ]
  },
  {
   "cell_type": "code",
   "execution_count": 33,
   "id": "4050cc03",
   "metadata": {},
   "outputs": [
    {
     "data": {
      "image/png": "[encoded data removed]",
      "text/plain": [
       "<Figure size 1200x500 with 2 Axes>"
      ]
     },
     "metadata": {},
     "output_type": "display_data"
    }
   ],
   "source": [
    "# Визуализация для сравнения\n",
    "plt.figure(figsize=(12, 5))\n",
    "\n",
    "plt.subplot(1, 2, 1)\n",
    "sns.histplot(df[feature_name], kde=True)\n",
    "plt.title(f'Гистограмма \"{feature_name}\" (до удаления выбросов)')\n",
    "plt.axvline(lower_bound, color='r', linestyle='dashed', linewidth=1, label=f'Нижняя граница ({lower_bound:.2f})')\n",
    "plt.axvline(upper_bound, color='r', linestyle='dashed', linewidth=1, label=f'Верхняя граница ({upper_bound:.2f})')\n",
    "plt.legend()\n",
    "\n",
    "plt.subplot(1, 2, 2)\n",
    "sns.histplot(df_cleaned[feature_name], kde=True)\n",
    "plt.title(f'Гистограмма \"{feature_name}\" (после удаления выбросов)')\n",
    "\n",
    "plt.tight_layout()\n",
    "plt.show()"
   ]
  },
  {
   "cell_type": "markdown",
   "id": "a034987b",
   "metadata": {},
   "source": [
    "### ## Дополнительное требование: Построение гистограммы\n",
    "#\n",
    "### Построим гистограмму для признака `age` (возраст). Предварительно обработаем пропуски, заполнив их медианным значением."
   ]
  },
  {
   "cell_type": "code",
   "execution_count": 34,
   "id": "774cb5d5",
   "metadata": {},
   "outputs": [],
   "source": [
    "# Выбор признака для гистограммы\n",
    "hist_feature = 'age'"
   ]
  },
  {
   "cell_type": "code",
   "execution_count": 35,
   "id": "9cebf7f0",
   "metadata": {},
   "outputs": [
    {
     "name": "stdout",
     "output_type": "stream",
     "text": [
      "Медианный возраст: 28.00\n",
      "Пропуски в 'age' после заполнения: 0\n"
     ]
    }
   ],
   "source": [
    "# Обработка пропусков в 'age' (заполнение медианой)\n",
    "median_age = df[hist_feature].median()\n",
    "print(f\"Медианный возраст: {median_age:.2f}\")\n",
    "df[hist_feature].fillna(median_age, inplace=True)\n",
    "print(f\"Пропуски в '{hist_feature}' после заполнения: {df[hist_feature].isnull().sum()}\")"
   ]
  },
  {
   "cell_type": "code",
   "execution_count": 36,
   "id": "16d999e7",
   "metadata": {},
   "outputs": [
    {
     "data": {
      "image/png": "[encoded data removed]",
      "text/plain": [
       "<Figure size 1000x600 with 1 Axes>"
      ]
     },
     "metadata": {},
     "output_type": "display_data"
    }
   ],
   "source": [
    "# Построение гистограммы\n",
    "plt.figure(figsize=(10, 6))\n",
    "sns.histplot(df[hist_feature], bins=30, kde=True) # kde=True добавляет сглаженную кривую плотности\n",
    "plt.title(f'Гистограмма распределения признака \"{hist_feature}\"')\n",
    "plt.xlabel('Возраст (лет)')\n",
    "plt.ylabel('Частота')\n",
    "plt.grid(axis='y', alpha=0.5)\n",
    "plt.show()"
   ]
  }
 ],
 "metadata": {
  "kernelspec": {
   "display_name": ".venv",
   "language": "python",
   "name": "python3"
  },
  "language_info": {
   "codemirror_mode": {
    "name": "ipython",
    "version": 3
   },
   "file_extension": ".py",
   "mimetype": "text/x-python",
   "name": "python",
   "nbconvert_exporter": "python",
   "pygments_lexer": "ipython3",
   "version": "3.11.4"
  }
 },
 "nbformat": 4,
 "nbformat_minor": 5
}
